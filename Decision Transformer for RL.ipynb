{
 "cells": [
  {
   "cell_type": "code",
   "execution_count": 5,
   "id": "fea8e4cf-e207-4a90-9eeb-f972740c7e96",
   "metadata": {},
   "outputs": [],
   "source": [
    "import tensorflow as tf\n",
    "from tensorflow.keras.layers import Layer, Dense,LayerNormalization, BatchNormalization, Dropout, Conv1D, Flatten, Reshape,TimeDistributed\n",
    "from tensorflow.keras.models import Model\n",
    "\n",
    "# define transformer block\n",
    "class TransformerBlock(Layer):\n",
    "    def __init__(self, embed_dim, num_heads, ff_dim, rate =0.1):\n",
    "        super(TransformerBlock, self).__init__()\n",
    "        self.att = tf.keras.layers.MultiHeadAttention(num_heads=num_heads, key_dim=embed_dim)\n",
    "\n",
    "        self.ffn = tf.keras.Sequential([ \n",
    "            Dense(ff_dim, activation = \"relu\"),\n",
    "            Dense(embed_dim)\n",
    "        ])\n",
    "\n",
    "        self.layernorm1 = LayerNormalization(epsilon=1e-6)\n",
    "        self.layernorm2 = LayerNormalization(epsilon=1e-6)\n",
    "        self.dropout1 = Dropout(rate)\n",
    "        self.dropout2 = Dropout(rate)\n",
    "\n",
    "    def call(self, inputs, training, mask=None):\n",
    "        attn_output = self.att(inputs, inputs, inputs, attention_mask=mask) # 3 inputs for query, key, value\n",
    "        attn_output = self.dropout1(attn_output,training=training)\n",
    "        out1 = self.layernorm1(inputs + attn_output)\n",
    "\n",
    "        ffn_output = self.ffn(out1)\n",
    "        ffn_output = self.dropout2(ffn_output, training=training)\n",
    "        return self.layernorm2(out1 + ffn_output)"
   ]
  },
  {
   "cell_type": "code",
   "execution_count": 10,
   "id": "3df00aed-6df9-45f8-bb09-cb967915c25b",
   "metadata": {},
   "outputs": [],
   "source": [
    "#### define DecisionTransformer model\n",
    "class DecisionTransformer(tf.keras.Model):\n",
    "    def __init__(self, state_dim, action_dim, embedding_dim, num_heads, ff_dim, num_layers):\n",
    "        super(DecisionTransformer, self).__init__()\n",
    "        self.state_embed = Dense(embedding_dim, activation=\"relu\")\n",
    "        self.action_embed = Dense(embedding_dim, activation=\"relu\")\n",
    "        self.transformer_layers = [TransformerBlock(embedding_dim, num_heads, ff_dim) \n",
    "                                   for _ in range(num_layers)]\n",
    "        self.dense = TimeDistributed(Dense(action_dim))\n",
    "\n",
    "    def call(self, states, actions):\n",
    "        state_embeddings = self.state_embed(states)\n",
    "        action_embeddings = self.action_embed(actions)\n",
    "\n",
    "        x = state_embeddings + action_embeddings\n",
    "        for transformer_layer in self.transformer_layers:\n",
    "            x = transformer_layer(x, training=True)\n",
    "        return self.dense(x)"
   ]
  },
  {
   "cell_type": "code",
   "execution_count": 11,
   "id": "897f8168-f951-40b9-9c34-e279079930d5",
   "metadata": {},
   "outputs": [
    {
     "name": "stdout",
     "output_type": "stream",
     "text": [
      "(32, 100, 5)\n"
     ]
    }
   ],
   "source": [
    "# Example\n",
    "state_dim = 20\n",
    "action_dim = 5\n",
    "embedding_dim = 128\n",
    "num_heads = 4\n",
    "ff_dim = 512\n",
    "num_layers = 6\n",
    "\n",
    "# Initialize DesitionTransformer\n",
    "dt = DecisionTransformer(state_dim, action_dim, embedding_dim, num_heads, ff_dim, num_layers)\n",
    "\n",
    "# generate states and actions\n",
    "states = tf.random.uniform((32, 100, state_dim))\n",
    "# Batch of 32 sequences of 100 states\n",
    "actions = tf.random.uniform((32, 100, action_dim))\n",
    "# Batch of 32 sequences of 100 states\n",
    "\n",
    "# get model prediction\n",
    "output = dt(states, actions, training=True)\n",
    "\n",
    "print(output.shape)"
   ]
  },
  {
   "cell_type": "code",
   "execution_count": null,
   "id": "2925178c-989c-41ba-bc08-37a96f838f20",
   "metadata": {},
   "outputs": [],
   "source": []
  }
 ],
 "metadata": {
  "kernelspec": {
   "display_name": "Python 3 (ipykernel)",
   "language": "python",
   "name": "python3"
  },
  "language_info": {
   "codemirror_mode": {
    "name": "ipython",
    "version": 3
   },
   "file_extension": ".py",
   "mimetype": "text/x-python",
   "name": "python",
   "nbconvert_exporter": "python",
   "pygments_lexer": "ipython3",
   "version": "3.11.5"
  }
 },
 "nbformat": 4,
 "nbformat_minor": 5
}
