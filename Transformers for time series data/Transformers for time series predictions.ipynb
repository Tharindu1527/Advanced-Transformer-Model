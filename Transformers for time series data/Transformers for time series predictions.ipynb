{
 "cells": [
  {
   "cell_type": "code",
   "execution_count": 1,
   "id": "28e24581-3411-4ed5-956f-1f7f6f2ec34d",
   "metadata": {},
   "outputs": [],
   "source": [
    "import tensorflow as tf\n",
    "from tensorflow.keras.layers import Layer, Dense, LayerNormalization, Dropout\n",
    "\n",
    "class TransformerBlock(Layer):\n",
    "    def __init__(self, embed_dim, num_heads, ff_dim, rate = 0.1):\n",
    "        super(TransformerBlock, self).__init__()\n",
    "\n",
    "        self.att = tf.keras.layers.MultiHeadAttention(num_heads=num_heads, key_dim = embed_dim)\n",
    "        self.ffn = tf.keras.Sequential([ \n",
    "            Dense(ff_dim, activation = \"relu\"),\n",
    "            Dense(embed_dim),\n",
    "        ])\n",
    "\n",
    "        self.layernorm1 = LayerNormalization(epsilon=1e-6)\n",
    "        self.layernorm2 = LayerNormalization(epsilon=1e-6)\n",
    "        self.dropout1 = Dropout(rate)\n",
    "        self.dropout2 = Dropout(rate)\n",
    "\n",
    "    def call(self, inputs, training, mask=None):\n",
    "        attn_output = self.att(inputs, inputs, inputs, attention_mask=mask)\n",
    "        attn_output = self.dropout1(attn_output, training=training)\n",
    "        out1 = self.layernorm1(inputs + attn_output)\n",
    "\n",
    "        ffn_output = self.ffn(out1)\n",
    "        ffn_output = self.dropout2(ffn_output, training= training)\n",
    "        ffn_output = self.layernorm2(ffn_output + out1)   \n",
    "\n",
    "        return ffn_output"
   ]
  },
  {
   "cell_type": "markdown",
   "id": "4f47dd85-4cd3-487f-89f0-51a58da14e76",
   "metadata": {},
   "source": [
    "#### Data Preparation"
   ]
  },
  {
   "cell_type": "code",
   "execution_count": 2,
   "id": "5199627a-bb43-4e3a-843d-a4fe0b1a0f5b",
   "metadata": {},
   "outputs": [],
   "source": [
    "import numpy as np\n",
    "import pandas as pd\n",
    "from sklearn.preprocessing import MinMaxScaler\n",
    "\n",
    "# load data\n",
    "data = pd.read_csv(\"stock_prices.csv\")\n",
    "data = data[[\"close\"]].values"
   ]
  },
  {
   "cell_type": "code",
   "execution_count": 3,
   "id": "445697a1-eda5-452a-8558-3b7555875d2e",
   "metadata": {},
   "outputs": [],
   "source": [
    "# Normaliza data\n",
    "scaler = MinMaxScaler(feature_range=(0,1))\n",
    "data = scaler.fit_transform(data)\n",
    "\n",
    "# prepare for training\n",
    "def create_dataset(data, time_step =1):\n",
    "    x, y = [],[]\n",
    "    for i in range(len(data) - time_step -1):\n",
    "        a = data[i:(i + time_step), 0] # Slice a sequence from data\n",
    "        x.append(a)\n",
    "        y.append(data[i + time_step, 0]) # append the next value to y\n",
    "    return np.array(x), np.array(y)\n",
    "\n",
    "time_step = 60\n",
    "x, y = create_dataset(data, time_step)"
   ]
  },
  {
   "cell_type": "code",
   "execution_count": 4,
   "id": "4f9b4243-4a01-4175-b77e-3bbe49dcb259",
   "metadata": {},
   "outputs": [
    {
     "name": "stdout",
     "output_type": "stream",
     "text": [
      "Length of data :  2000\n",
      "Length of x :  1939\n",
      "shape of first element in x:  (60,)\n",
      "Shape of y :  (1939,)\n",
      "Shape of x after reshape: (1939, 60, 1)\n",
      "shape of x :  (1939, 60, 1)\n",
      "shape of y :  (1939,)\n"
     ]
    }
   ],
   "source": [
    "# Print the output\n",
    "\n",
    "print(\"Length of data : \" , len(data))\n",
    "print(\"Length of x : \" , len(x))\n",
    "print(\"shape of first element in x: \", x[0].shape if len(x) > 0 else \"x is empty\")\n",
    "print(\"Shape of y : \", y.shape)\n",
    "\n",
    "#reshape x to fit LSTM input shape requirements (if x is not empty)\n",
    "if len(x) > 0:\n",
    "    x = x.reshape(x.shape[0], x.shape[1], 1)\n",
    "    print(\"Shape of x after reshape:\" , x.shape)\n",
    "    print(\"shape of x : \", x.shape)\n",
    "    print(\"shape of y : \", y.shape)"
   ]
  },
  {
   "cell_type": "markdown",
   "id": "9d523292-9e38-4424-a55c-2b9e20cabf51",
   "metadata": {},
   "source": [
    "#### Transformer model"
   ]
  },
  {
   "cell_type": "code",
   "execution_count": 5,
   "id": "072bba13-31b6-4f1d-9928-fd7cb79f4180",
   "metadata": {},
   "outputs": [
    {
     "name": "stdout",
     "output_type": "stream",
     "text": [
      "WARNING:tensorflow:From C:\\ProgramData\\miniconda3\\Lib\\site-packages\\keras\\src\\backend\\tensorflow\\core.py:216: The name tf.placeholder is deprecated. Please use tf.compat.v1.placeholder instead.\n",
      "\n",
      "Epoch 1/20\n",
      "\u001b[1m61/61\u001b[0m \u001b[32m━━━━━━━━━━━━━━━━━━━━\u001b[0m\u001b[37m\u001b[0m \u001b[1m18s\u001b[0m 139ms/step - accuracy: 0.0000e+00 - loss: 15.1918\n",
      "Epoch 2/20\n",
      "\u001b[1m61/61\u001b[0m \u001b[32m━━━━━━━━━━━━━━━━━━━━\u001b[0m\u001b[37m\u001b[0m \u001b[1m9s\u001b[0m 140ms/step - accuracy: 0.0000e+00 - loss: 0.2189\n",
      "Epoch 3/20\n",
      "\u001b[1m61/61\u001b[0m \u001b[32m━━━━━━━━━━━━━━━━━━━━\u001b[0m\u001b[37m\u001b[0m \u001b[1m9s\u001b[0m 143ms/step - accuracy: 0.0000e+00 - loss: 0.1851\n",
      "Epoch 4/20\n",
      "\u001b[1m61/61\u001b[0m \u001b[32m━━━━━━━━━━━━━━━━━━━━\u001b[0m\u001b[37m\u001b[0m \u001b[1m9s\u001b[0m 155ms/step - accuracy: 0.0000e+00 - loss: 0.1559\n",
      "Epoch 5/20\n",
      "\u001b[1m61/61\u001b[0m \u001b[32m━━━━━━━━━━━━━━━━━━━━\u001b[0m\u001b[37m\u001b[0m \u001b[1m9s\u001b[0m 153ms/step - accuracy: 8.8122e-05 - loss: 0.1389\n",
      "Epoch 6/20\n",
      "\u001b[1m61/61\u001b[0m \u001b[32m━━━━━━━━━━━━━━━━━━━━\u001b[0m\u001b[37m\u001b[0m \u001b[1m10s\u001b[0m 162ms/step - accuracy: 4.2270e-05 - loss: 0.0959\n",
      "Epoch 7/20\n",
      "\u001b[1m61/61\u001b[0m \u001b[32m━━━━━━━━━━━━━━━━━━━━\u001b[0m\u001b[37m\u001b[0m \u001b[1m9s\u001b[0m 147ms/step - accuracy: 8.1132e-04 - loss: 0.0886\n",
      "Epoch 8/20\n",
      "\u001b[1m61/61\u001b[0m \u001b[32m━━━━━━━━━━━━━━━━━━━━\u001b[0m\u001b[37m\u001b[0m \u001b[1m9s\u001b[0m 147ms/step - accuracy: 4.7224e-04 - loss: 0.1062\n",
      "Epoch 9/20\n",
      "\u001b[1m61/61\u001b[0m \u001b[32m━━━━━━━━━━━━━━━━━━━━\u001b[0m\u001b[37m\u001b[0m \u001b[1m9s\u001b[0m 148ms/step - accuracy: 8.9915e-04 - loss: 0.0816\n",
      "Epoch 10/20\n",
      "\u001b[1m61/61\u001b[0m \u001b[32m━━━━━━━━━━━━━━━━━━━━\u001b[0m\u001b[37m\u001b[0m \u001b[1m9s\u001b[0m 147ms/step - accuracy: 2.9973e-04 - loss: 0.0708\n",
      "Epoch 11/20\n",
      "\u001b[1m61/61\u001b[0m \u001b[32m━━━━━━━━━━━━━━━━━━━━\u001b[0m\u001b[37m\u001b[0m \u001b[1m9s\u001b[0m 148ms/step - accuracy: 2.5771e-04 - loss: 0.0814\n",
      "Epoch 12/20\n",
      "\u001b[1m61/61\u001b[0m \u001b[32m━━━━━━━━━━━━━━━━━━━━\u001b[0m\u001b[37m\u001b[0m \u001b[1m9s\u001b[0m 149ms/step - accuracy: 5.3806e-04 - loss: 0.0475\n",
      "Epoch 13/20\n",
      "\u001b[1m61/61\u001b[0m \u001b[32m━━━━━━━━━━━━━━━━━━━━\u001b[0m\u001b[37m\u001b[0m \u001b[1m9s\u001b[0m 149ms/step - accuracy: 2.5771e-04 - loss: 0.0680\n",
      "Epoch 14/20\n",
      "\u001b[1m61/61\u001b[0m \u001b[32m━━━━━━━━━━━━━━━━━━━━\u001b[0m\u001b[37m\u001b[0m \u001b[1m9s\u001b[0m 150ms/step - accuracy: 0.0024 - loss: 0.1030\n",
      "Epoch 15/20\n",
      "\u001b[1m61/61\u001b[0m \u001b[32m━━━━━━━━━━━━━━━━━━━━\u001b[0m\u001b[37m\u001b[0m \u001b[1m10s\u001b[0m 159ms/step - accuracy: 0.0000e+00 - loss: 0.0634\n",
      "Epoch 16/20\n",
      "\u001b[1m61/61\u001b[0m \u001b[32m━━━━━━━━━━━━━━━━━━━━\u001b[0m\u001b[37m\u001b[0m \u001b[1m11s\u001b[0m 173ms/step - accuracy: 0.0011 - loss: 0.0414    \n",
      "Epoch 17/20\n",
      "\u001b[1m61/61\u001b[0m \u001b[32m━━━━━━━━━━━━━━━━━━━━\u001b[0m\u001b[37m\u001b[0m \u001b[1m10s\u001b[0m 171ms/step - accuracy: 4.9324e-04 - loss: 0.0416\n",
      "Epoch 18/20\n",
      "\u001b[1m61/61\u001b[0m \u001b[32m━━━━━━━━━━━━━━━━━━━━\u001b[0m\u001b[37m\u001b[0m \u001b[1m10s\u001b[0m 170ms/step - accuracy: 5.8727e-04 - loss: 0.0274\n",
      "Epoch 19/20\n",
      "\u001b[1m61/61\u001b[0m \u001b[32m━━━━━━━━━━━━━━━━━━━━\u001b[0m\u001b[37m\u001b[0m \u001b[1m10s\u001b[0m 160ms/step - accuracy: 4.2270e-05 - loss: 0.0298\n",
      "Epoch 20/20\n",
      "\u001b[1m61/61\u001b[0m \u001b[32m━━━━━━━━━━━━━━━━━━━━\u001b[0m\u001b[37m\u001b[0m \u001b[1m10s\u001b[0m 156ms/step - accuracy: 3.9602e-04 - loss: 0.0392\n"
     ]
    },
    {
     "data": {
      "text/plain": [
       "<keras.src.callbacks.history.History at 0x1a8c025bed0>"
      ]
     },
     "execution_count": 5,
     "metadata": {},
     "output_type": "execute_result"
    }
   ],
   "source": [
    "from tensorflow.keras.models import Model\n",
    "from tensorflow.keras.layers import Input, Dense, Flatten, Embedding\n",
    "\n",
    "# Define transformer model\n",
    "input_shape = (x.shape[1], 1)\n",
    "inputs = Input(shape=input_shape)\n",
    "\n",
    "# Embeddign layer\n",
    "t = Dense(128)(inputs)\n",
    "\n",
    "# Transformer block\n",
    "for _ in range(4):\n",
    "    t = TransformerBlock(embed_dim=128, num_heads=4, ff_dim=512)(t, training=True)\n",
    "\n",
    "# Output layer\n",
    "t = Flatten()(t)\n",
    "outputs = Dense(1)(t)\n",
    "\n",
    "# Create the model\n",
    "model = Model(inputs, outputs)\n",
    "\n",
    "# Compile model\n",
    "model.compile(optimizer = \"adam\",\n",
    "              loss = \"mse\",\n",
    "              metrics = [\"accuracy\"]\n",
    "             )\n",
    "\n",
    "# train thte model\n",
    "model.fit(x, y, epochs = 20, batch_size=32)"
   ]
  },
  {
   "cell_type": "markdown",
   "id": "29911017-3b05-4e86-a505-f300a19d6d2b",
   "metadata": {},
   "source": [
    "#### Evaluating model and make predictions\n"
   ]
  },
  {
   "cell_type": "code",
   "execution_count": 11,
   "id": "483bc185-2678-4a27-8fd1-fb5d4f723eda",
   "metadata": {},
   "outputs": [
    {
     "name": "stdout",
     "output_type": "stream",
     "text": [
      "Epoch 1/10\n"
     ]
    },
    {
     "name": "stderr",
     "output_type": "stream",
     "text": [
      "C:\\ProgramData\\miniconda3\\Lib\\site-packages\\keras\\src\\layers\\rnn\\rnn.py:200: UserWarning: Do not pass an `input_shape`/`input_dim` argument to a layer. When using Sequential models, prefer using an `Input(shape)` object as the first layer in the model instead.\n",
      "  super().__init__(**kwargs)\n"
     ]
    },
    {
     "name": "stdout",
     "output_type": "stream",
     "text": [
      "\u001b[1m61/61\u001b[0m \u001b[32m━━━━━━━━━━━━━━━━━━━━\u001b[0m\u001b[37m\u001b[0m \u001b[1m4s\u001b[0m 21ms/step - loss: 0.0553\n",
      "Epoch 2/10\n",
      "\u001b[1m61/61\u001b[0m \u001b[32m━━━━━━━━━━━━━━━━━━━━\u001b[0m\u001b[37m\u001b[0m \u001b[1m1s\u001b[0m 22ms/step - loss: 4.1993e-04\n",
      "Epoch 3/10\n",
      "\u001b[1m61/61\u001b[0m \u001b[32m━━━━━━━━━━━━━━━━━━━━\u001b[0m\u001b[37m\u001b[0m \u001b[1m1s\u001b[0m 22ms/step - loss: 4.1101e-04\n",
      "Epoch 4/10\n",
      "\u001b[1m61/61\u001b[0m \u001b[32m━━━━━━━━━━━━━━━━━━━━\u001b[0m\u001b[37m\u001b[0m \u001b[1m1s\u001b[0m 21ms/step - loss: 3.8325e-04\n",
      "Epoch 5/10\n",
      "\u001b[1m61/61\u001b[0m \u001b[32m━━━━━━━━━━━━━━━━━━━━\u001b[0m\u001b[37m\u001b[0m \u001b[1m1s\u001b[0m 22ms/step - loss: 4.0580e-04\n",
      "Epoch 6/10\n",
      "\u001b[1m61/61\u001b[0m \u001b[32m━━━━━━━━━━━━━━━━━━━━\u001b[0m\u001b[37m\u001b[0m \u001b[1m1s\u001b[0m 22ms/step - loss: 3.6978e-04\n",
      "Epoch 7/10\n",
      "\u001b[1m61/61\u001b[0m \u001b[32m━━━━━━━━━━━━━━━━━━━━\u001b[0m\u001b[37m\u001b[0m \u001b[1m1s\u001b[0m 22ms/step - loss: 3.6305e-04\n",
      "Epoch 8/10\n",
      "\u001b[1m61/61\u001b[0m \u001b[32m━━━━━━━━━━━━━━━━━━━━\u001b[0m\u001b[37m\u001b[0m \u001b[1m1s\u001b[0m 22ms/step - loss: 3.9285e-04\n",
      "Epoch 9/10\n",
      "\u001b[1m61/61\u001b[0m \u001b[32m━━━━━━━━━━━━━━━━━━━━\u001b[0m\u001b[37m\u001b[0m \u001b[1m1s\u001b[0m 23ms/step - loss: 3.8277e-04\n",
      "Epoch 10/10\n",
      "\u001b[1m61/61\u001b[0m \u001b[32m━━━━━━━━━━━━━━━━━━━━\u001b[0m\u001b[37m\u001b[0m \u001b[1m1s\u001b[0m 22ms/step - loss: 4.0823e-04\n",
      "\u001b[1m61/61\u001b[0m \u001b[32m━━━━━━━━━━━━━━━━━━━━\u001b[0m\u001b[37m\u001b[0m \u001b[1m1s\u001b[0m 11ms/step  \n"
     ]
    },
    {
     "data": {
      "image/png": "[encoded data removed]",
      "text/plain": [
       "<Figure size 640x480 with 1 Axes>"
      ]
     },
     "metadata": {},
     "output_type": "display_data"
    }
   ],
   "source": [
    "from keras.models import Sequential\n",
    "from keras.layers import LSTM, Dense\n",
    "import matplotlib.pyplot as plt\n",
    "\n",
    "# model\n",
    "model = Sequential()\n",
    "model.add(LSTM(50, return_sequences=True, input_shape=(time_step, 1)))\n",
    "model.add(LSTM(50, return_sequences=False))\n",
    "model.add(Dense(1))\n",
    "\n",
    "# Compile the model\n",
    "model.compile(optimizer=\"adam\",\n",
    "              loss = \"mse\"\n",
    "             )\n",
    "\n",
    "model.fit(x, y, epochs = 10, batch_size=32)\n",
    "\n",
    "predictions = model.predict(x)\n",
    "\n",
    "# Inverse transform the predictions to get the original scale\n",
    "predictions = scaler.inverse_transform(predictions)\n",
    "\n",
    "# Plot the predictions\n",
    "plt.plot(scaler.inverse_transform(data), label=\"True Data\")\n",
    "plt.plot(np.arange(time_step, time_step + len(predictions)), predictions, label=\"Predictions\")\n",
    "plt.xlabel(\"Time\")\n",
    "plt.ylabel(\"Stock Prices\")\n",
    "plt.legend()\n",
    "plt.show()"
   ]
  },
  {
   "cell_type": "code",
   "execution_count": null,
   "id": "a9d15fd0-ebbf-4046-971e-adcfa137be0b",
   "metadata": {},
   "outputs": [],
   "source": []
  }
 ],
 "metadata": {
  "kernelspec": {
   "display_name": "Python 3 (ipykernel)",
   "language": "python",
   "name": "python3"
  },
  "language_info": {
   "codemirror_mode": {
    "name": "ipython",
    "version": 3
   },
   "file_extension": ".py",
   "mimetype": "text/x-python",
   "name": "python",
   "nbconvert_exporter": "python",
   "pygments_lexer": "ipython3",
   "version": "3.11.5"
  }
 },
 "nbformat": 4,
 "nbformat_minor": 5
}
