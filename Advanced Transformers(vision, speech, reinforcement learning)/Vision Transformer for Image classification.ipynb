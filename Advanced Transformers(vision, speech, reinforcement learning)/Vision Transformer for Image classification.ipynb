{
 "cells": [
  {
   "cell_type": "markdown",
   "id": "ceb870e2-0dba-4252-b976-480bca06236a",
   "metadata": {},
   "source": [
    "#### Define Transformer block for adding MultiHeadAttention Layer"
   ]
  },
  {
   "cell_type": "code",
   "execution_count": 48,
   "id": "1ca225d4-21ab-4bc1-820b-365ab26c58e4",
   "metadata": {},
   "outputs": [],
   "source": [
    "import tensorflow as tf\n",
    "from tensorflow.keras.layers import Layer,Dense,LayerNormalization, Dropout, Flatten\n",
    "\n",
    "# Define Transformer block class\n",
    "class TransformerBlock(Layer):\n",
    "    def __init__(self,embed_dim, num_heads, ff_dim, rate = 0.1):\n",
    "        super(TransformerBlock, self) .__init__()\n",
    "\n",
    "        # Define MultiHeadAttension layer\n",
    "        self.att = tf.keras.layers.MultiHeadAttention(num_heads = num_heads, key_dim = embed_dim)\n",
    "        \n",
    "        # Define feed forward network\n",
    "        self.ffn = tf.keras.Sequential([\n",
    "            Dense(ff_dim , activation=\"relu\"),\n",
    "            Dense(embed_dim),\n",
    "        ])\n",
    "\n",
    "        # Define normalization and dropout layers\n",
    "        self.layernorm1 = LayerNormalization(epsilon = 1e-6)\n",
    "        self.layernorm2 = LayerNormalization(epsilon = 1e-6)\n",
    "        self.dropout1 = Dropout(rate) # prevent overfitting\n",
    "        self.dropout2 = Dropout(rate)\n",
    "\n",
    "    # call method for computing the attension weights and applies them to the value vectors to get output\n",
    "    def call(self, inputs, training, mask=None):\n",
    "        \n",
    "        # MultiHeadAttention output\n",
    "        attn_output = self.att(inputs, inputs, inputs, attention_mask=mask)\n",
    "        # Apply to dropout layer to attnoutput for prevent overfitting\n",
    "        attn_output = self.dropout1(attn_output, training=training)\n",
    "        # Apply layernormalization to attn_output\n",
    "        out1 = self.layernorm1(inputs + attn_output)\n",
    "        \n",
    "        # feed forward network output(Apply out1)\n",
    "        ffn_output = self.ffn(out1)\n",
    "        # Apply again ffn_output to dropout layer)\n",
    "        ffn_output = self.dropout2(ffn_output, training=training)\n",
    "\n",
    "        # Finally apply layernormalization\n",
    "        return self.layernorm2(out1 + ffn_output)"
   ]
  },
  {
   "cell_type": "markdown",
   "id": "d592bbc2-16a4-48a3-b7b6-28231dd5b204",
   "metadata": {},
   "source": [
    "#### Define Patch Embedding Layer(embed image patches in to the disired dimension)"
   ]
  },
  {
   "cell_type": "code",
   "execution_count": 49,
   "id": "b17d57d9-b726-4981-afc1-79b1ae21dc01",
   "metadata": {},
   "outputs": [],
   "source": [
    "class PatchEmbedding(Layer):\n",
    "    def __init__(self, num_patches, embedding_dim):\n",
    "        super(PatchEmbedding, self).__init__()\n",
    "        self.num_patches = num_patches\n",
    "        self.embedding_dim = embedding_dim\n",
    "        self.projection = Dense(embedding_dim)\n",
    "\n",
    "    # Apply patches to disired layers\n",
    "    def call(self, patches):\n",
    "        return self.projection(patches)"
   ]
  },
  {
   "cell_type": "markdown",
   "id": "170c6183-e224-42eb-8a2e-bc93ffadc899",
   "metadata": {},
   "source": [
    "#### Define the visionTransformer model with patch"
   ]
  },
  {
   "cell_type": "code",
   "execution_count": 52,
   "id": "3194b325-f3b7-4c17-aa68-cf7d7b28ec18",
   "metadata": {},
   "outputs": [],
   "source": [
    "class VisionTransformer(tf.keras.Model):\n",
    "    def __init__(self, num_patches, embedding_dim, num_heads, ff_dim, num_layers,num_classes):\n",
    "        super(VisionTransformer, self).__init__()\n",
    "        # Define patch embedding\n",
    "        self.patch_embed = PatchEmbedding(num_patches, embedding_dim)\n",
    "        # Define transformer layer using TransformerBlock\n",
    "        self.transformer_layers = [TransformerBlock(embedding_dim, num_heads, ff_dim) for _ in range(num_layers)]\n",
    "\n",
    "        self.flatten = Flatten()\n",
    "        self.dense = Dense(num_classes, activation=\"softmax\")\n",
    "\n",
    "    def call(self, images, training):\n",
    "        patches = self.extract_patches(images)\n",
    "        x = self.patch_embed(patches)\n",
    "\n",
    "        for transformer_layer in self.transformer_layers:\n",
    "            x = transformer_layer(x, training= training) # apply embed images to transformer layer\n",
    "            x = self.flatten(x)\n",
    "            return self.dense(x)\n",
    "    # extract patches from images for the tranformer model\n",
    "    def extract_patches(self, images):\n",
    "        batch_size = tf.shape(images)[0]\n",
    "        patches = tf.image.extract_patches(\n",
    "            images=images,\n",
    "            sizes = [1,16,16,1], strides=[1,16,16,1],\n",
    "            rates = [1,1,1,1],\n",
    "            padding=\"VALID\"\n",
    "        )\n",
    "        patches = tf.reshape(patches, [batch_size, -1, 16*16*3])\n",
    "        return patches\n",
    "        "
   ]
  },
  {
   "cell_type": "code",
   "execution_count": 55,
   "id": "f7c58a63-eb4c-48e3-aab5-e9d2174c7002",
   "metadata": {},
   "outputs": [
    {
     "name": "stdout",
     "output_type": "stream",
     "text": [
      "(32, 10)\n"
     ]
    }
   ],
   "source": [
    "# Example Usage\n",
    "num_patches = 196 # Assumin 14*14 patches\n",
    "embedding_dim = 128\n",
    "num_heads = 4\n",
    "ff_dim = 512\n",
    "num_layers = 6\n",
    "num_classes = 10 # For CIFAR-10 dataset\n",
    "\n",
    "vit = VisionTransformer(num_patches, embedding_dim, num_heads, ff_dim, num_layers, num_classes)\n",
    "images = tf.random.uniform((32, 224, 224,3)) # Batch of 32 images of size 224 *224\n",
    "\n",
    "output = vit(images,training=True)\n",
    "print(output.shape)"
   ]
  },
  {
   "cell_type": "code",
   "execution_count": null,
   "id": "81b6a68d-1884-45f0-aaf2-f74d7bbc3696",
   "metadata": {},
   "outputs": [],
   "source": []
  }
 ],
 "metadata": {
  "kernelspec": {
   "display_name": "Python 3 (ipykernel)",
   "language": "python",
   "name": "python3"
  },
  "language_info": {
   "codemirror_mode": {
    "name": "ipython",
    "version": 3
   },
   "file_extension": ".py",
   "mimetype": "text/x-python",
   "name": "python",
   "nbconvert_exporter": "python",
   "pygments_lexer": "ipython3",
   "version": "3.11.5"
  }
 },
 "nbformat": 4,
 "nbformat_minor": 5
}
