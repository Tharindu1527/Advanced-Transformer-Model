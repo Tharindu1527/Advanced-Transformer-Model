{
 "cells": [
  {
   "cell_type": "code",
   "execution_count": 40,
   "id": "8d410ae9-d1de-48d7-a25d-b10bd8a5c946",
   "metadata": {},
   "outputs": [],
   "source": [
    "import tensorflow as tf\n",
    "from tensorflow.keras.layers import Layer, Dense,LayerNormalization, BatchNormalization, Dropout, Conv1D, Flatten, Reshape\n",
    "from tensorflow.keras.models import Model\n",
    "\n",
    "# define transformer block\n",
    "class TransformerBlock(Layer):\n",
    "    def __init__(self, embed_dim, num_heads, ff_dim, rate =0.1):\n",
    "        super(TransformerBlock, self).__init__()\n",
    "        self.att = tf.keras.layers.MultiHeadAttention(num_heads=num_heads, key_dim=embed_dim)\n",
    "\n",
    "        self.ffn = tf.keras.Sequential([ \n",
    "            Dense(ff_dim, activation = \"relu\"),\n",
    "            Dense(embed_dim)\n",
    "        ])\n",
    "\n",
    "        self.layernorm1 = LayerNormalization(epsilon=1e-6)\n",
    "        self.layernorm2 = LayerNormalization(epsilon=1e-6)\n",
    "        self.dropout1 = Dropout(rate)\n",
    "        self.dropout2 = Dropout(rate)\n",
    "\n",
    "    def call(self, inputs, training, mask=None):\n",
    "        attn_output = self.att(inputs, inputs, inputs, attention_mask=mask) # 3 inputs for query, key, value\n",
    "        attn_output = self.dropout1(attn_output,training=training)\n",
    "        out1 = self.layernorm1(inputs + attn_output)\n",
    "\n",
    "        ffn_output = self.ffn(out1)\n",
    "        ffn_output = self.dropout2(ffn_output, training=training)\n",
    "        return self.layernorm2(out1 + ffn_output)"
   ]
  },
  {
   "cell_type": "code",
   "execution_count": 41,
   "id": "5d8b4d25-d9f1-4de3-8db9-fc5089c73c00",
   "metadata": {},
   "outputs": [],
   "source": [
    "class PatchEmbedding(Layer):\n",
    "    def __init__(self, num_patches, embedding_dim):\n",
    "        super(PatchEmbedding, self).__init__()\n",
    "        self.num_patches = num_patches\n",
    "        self.embedding_dim = embedding_dim\n",
    "        self.projection = Dense(embedding_dim)\n",
    "\n",
    "    # Apply patches to disired layers\n",
    "    def call(self, patches):\n",
    "        return self.projection(patches)"
   ]
  },
  {
   "cell_type": "code",
   "execution_count": 42,
   "id": "b70995e2-a394-4ad3-917b-ababaf6d19b8",
   "metadata": {},
   "outputs": [],
   "source": [
    "class VisionTransformer(tf.keras.Model):\n",
    "    def __init__(self, num_patches, embedding_dim, num_heads, ff_dim, num_layers,num_classes):\n",
    "        super(VisionTransformer, self).__init__()\n",
    "        # Define patch embedding\n",
    "        self.patch_embed = PatchEmbedding(num_patches, embedding_dim)\n",
    "        # Define transformer layer using TransformerBlock\n",
    "        self.transformer_layers = [TransformerBlock(embedding_dim, num_heads, ff_dim) for _ in range(num_layers)]\n",
    "\n",
    "        self.flatten = Flatten()\n",
    "        self.dense = Dense(num_classes, activation=\"softmax\")\n",
    "\n",
    "    def call(self, images, training):\n",
    "        patches = self.extract_patches(images)\n",
    "        x = self.patch_embed(patches)\n",
    "\n",
    "        for transformer_layer in self.transformer_layers:\n",
    "            x = transformer_layer(x, training= training) # apply embed images to transformer layer\n",
    "            x = self.flatten(x)\n",
    "            return self.dense(x)\n",
    "    # extract patches from images for the tranformer model\n",
    "    def extract_patches(self, images):\n",
    "        batch_size = tf.shape(images)[0]\n",
    "        patches = tf.image.extract_patches(\n",
    "            images=images,\n",
    "            sizes = [1,16,16,1], strides=[1,16,16,1],\n",
    "            rates = [1,1,1,1],\n",
    "            padding=\"VALID\"\n",
    "        )\n",
    "        patches = tf.reshape(patches, [batch_size, -1, 16*16*3])\n",
    "        return patches\n",
    "        "
   ]
  },
  {
   "cell_type": "markdown",
   "id": "956bcc5f-571a-44cc-be0c-64f779337409",
   "metadata": {},
   "source": [
    "#### Define SpeechTransformer model"
   ]
  },
  {
   "cell_type": "code",
   "execution_count": 45,
   "id": "386c7675-1b8c-4d1d-b701-b7be7a1b7bb7",
   "metadata": {},
   "outputs": [],
   "source": [
    "class SpeechTransformer(Model):\n",
    "    def __init__(self, num_mel_bins, embedding_dim, num_heads, ff_dim, num_layers, num_classes):\n",
    "        super(SpeechTransformer, self).__init__()\n",
    "\n",
    "        # define Convolution layer\n",
    "        self.conv1 = Conv1D(filters=embedding_dim, kernel_size=3, strides=1,padding=\"same\", activation=\"relu\")\n",
    "        \n",
    "        self.batch_norm = BatchNormalization()\n",
    "        self.reshape = Reshape((-1, embedding_dim))\n",
    "        self.transformer_layers = [TransformerBlock(embedding_dim, num_heads, ff_dim) \n",
    "                                  for _ in range(num_layers)]\n",
    "        self.flatten = Flatten()\n",
    "        self.dense = Dense(num_classes, activation=\"softmax\")\n",
    "\n",
    "    def call(self, spectrograms):\n",
    "        x = self.conv1(spectrograms)\n",
    "        x = self.batch_norm(x)\n",
    "        x = self.reshape(x)\n",
    "\n",
    "        for transformer_layer in self.transformer_layers:\n",
    "            x = transformer_layer(x, training=True)\n",
    "        x = self.flatten(x)\n",
    "        return self.dense(x)"
   ]
  },
  {
   "cell_type": "code",
   "execution_count": 46,
   "id": "fdba0f8c-4a16-43f2-9582-6efb9ad0c925",
   "metadata": {},
   "outputs": [
    {
     "name": "stdout",
     "output_type": "stream",
     "text": [
      "(32, 30)\n"
     ]
    }
   ],
   "source": [
    " # Example usage\n",
    "\n",
    "num_mel_bins = 80\n",
    "embedding_dim = 128\n",
    "num_heads = 4\n",
    "ff_dim = 512\n",
    "num_layers = 6\n",
    "num_classes = 30 # Example for phoneme classification\n",
    "\n",
    "# Initialize SpeechTransformer model\n",
    "st = SpeechTransformer(num_mel_bins, embedding_dim, num_heads, ff_dim, num_layers, num_classes)\n",
    "\n",
    "# generate example spectrograms\n",
    "spectrograms = tf.random.uniform((32, 100, num_mel_bins)) # Batch pf 32 spectrograms with 100 time frame\n",
    "\n",
    "#model \n",
    "output = st(spectrograms, training=True)\n",
    "print(output.shape)"
   ]
  },
  {
   "cell_type": "code",
   "execution_count": null,
   "id": "d13ed8fc-a210-4d7b-80fc-c343efdcebdf",
   "metadata": {},
   "outputs": [],
   "source": []
  },
  {
   "cell_type": "code",
   "execution_count": null,
   "id": "9edc9271-8b48-4f9b-9a90-299dc54a4b8f",
   "metadata": {},
   "outputs": [],
   "source": []
  },
  {
   "cell_type": "code",
   "execution_count": null,
   "id": "f2849679-62e6-4331-80ba-54ead70af842",
   "metadata": {},
   "outputs": [],
   "source": []
  }
 ],
 "metadata": {
  "kernelspec": {
   "display_name": "Python 3 (ipykernel)",
   "language": "python",
   "name": "python3"
  },
  "language_info": {
   "codemirror_mode": {
    "name": "ipython",
    "version": 3
   },
   "file_extension": ".py",
   "mimetype": "text/x-python",
   "name": "python",
   "nbconvert_exporter": "python",
   "pygments_lexer": "ipython3",
   "version": "3.11.5"
  }
 },
 "nbformat": 4,
 "nbformat_minor": 5
}
